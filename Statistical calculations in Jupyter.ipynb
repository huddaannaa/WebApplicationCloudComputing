{
 "cells": [
  {
   "cell_type": "code",
   "execution_count": 1,
   "metadata": {
    "collapsed": true
   },
   "outputs": [],
   "source": [
    "#library for data manipulation\n",
    "import pandas as pd\n",
    "#library for plots\n",
    "import matplotlib.pyplot as plt\n",
    "%matplotlib inline\n",
    "%config InlineBackend.figure_formats=['png']\n",
    "import numpy as np\n",
    "import random"
   ]
  },
  {
   "cell_type": "code",
   "execution_count": 27,
   "metadata": {
    "collapsed": false
   },
   "outputs": [],
   "source": [
    "class hud_func:\n",
    "    \n",
    "    def adj(self,path):\n",
    "        company = pd.DataFrame.from_csv(path)\n",
    "        company = company[\"Adj Close\"]\n",
    "        return company\n",
    "    def ret_s(self,s):\n",
    "        days = len(s) - 1\n",
    "        t_rets = [ ]\n",
    "        for n in range(0,days):\n",
    "            ret = (s[n]-s[n+1])/s[n+1]\n",
    "            t_rets.append(ret)\n",
    "        return t_rets \n",
    "    def sort_(self,c):\n",
    "        c = c#.values.tolist()\n",
    "        c = list(c)\n",
    "        c.sort(reverse = True)\n",
    "        return c\n",
    "    def draw(self,com):\n",
    "        com.plot()\n",
    "        plt.title(u\"return series\", weight='bold');\n",
    "        amazon_rs.hist(bins=len(amazon) - 1, normed=True, histtype='stepfilled', alpha=0.5)\n",
    "    def historical(self,r_s,investment):\n",
    "    #parameters for the historical function are (company's_return_series,investment)\n",
    "        #rs_srt = sort_(self,r_s)\n",
    "        ret_len = len(r_s) - 1\n",
    "        loss_value_at_95 = (95 * ret_len) / 100\n",
    "        r_s95 = r_s[int(loss_value_at_95)]\n",
    "        loss_value_at_99 = (99 * ret_len) / 100\n",
    "        r_s99 = r_s[int(loss_value_at_99)]\n",
    "        investment = int(investment)\n",
    "        var_95 = investment * r_s95\n",
    "        var_99 = investment * r_s99\n",
    "        return var_95, var_99\n",
    "    def covariance(self,r_s,investment):\n",
    "        mean = np.mean(r_s)\n",
    "        std  = np.std(r_s)\n",
    "        investment = int(investment)\n",
    "        #VAR at 95% is found at 1.65 std from the mean\n",
    "        var95 = -(mean + (1.65 * std)) * investment\n",
    "        #VAR at 99% is found at 2.33 std from the mean\n",
    "        var99 = -(mean + (2.33 * std)) * investment\n",
    "        return var95, var99\n",
    "    def monte_carlo_new_prices(self,r_s):\n",
    "        mean = np.mean(r_s)\n",
    "        std  = np.std(r_s)\n",
    "        days = len(r_s) - 1\n",
    "        new_prices = [ ]\n",
    "        p = r_s\n",
    "        for m in range(1, days):\n",
    "            q = random.gauss(mean,std)\n",
    "            n = (1 + q) * p[m]\n",
    "            new_prices.append(n)\n",
    "        new_prices.pop()\n",
    "        return new_prices\n",
    "hudcw = hud_func()        "
   ]
  },
  {
   "cell_type": "code",
   "execution_count": 29,
   "metadata": {
    "collapsed": false
   },
   "outputs": [],
   "source": [
    "#STEP_1\n",
    "#path\n",
    "path                   = '/home/hud/2_s2 _sem2/cld_/cw_cld/datasets_cld/amazon.csv'\n",
    "#investment\n",
    "investment             = 10\n",
    "#adj_close\n",
    "adj_close              = hudcw.adj(path)\n",
    "#return series\n",
    "return_series          = hudcw.ret_s(adj_close)\n",
    "#STEP_2\n",
    "#sorting\n",
    "sorted_                = hudcw.sort_(return_series)\n",
    "#historical\n",
    "historical             = hudcw.historical(sorted_,investment)\n",
    "#covariance\n",
    "covariance             = hudcw.covariance(return_series,investment)\n",
    "#monte_carlo_new_prices\n",
    "monte_carlo_new_prices = hudcw.monte_carlo_new_prices(return_series)\n",
    "\n",
    "\n"
   ]
  },
  {
   "cell_type": "code",
   "execution_count": 31,
   "metadata": {
    "collapsed": false
   },
   "outputs": [],
   "source": [
    "#historical"
   ]
  },
  {
   "cell_type": "code",
   "execution_count": 24,
   "metadata": {
    "collapsed": false
   },
   "outputs": [],
   "source": [
    "#covariance"
   ]
  },
  {
   "cell_type": "code",
   "execution_count": 19,
   "metadata": {
    "collapsed": false
   },
   "outputs": [],
   "source": [
    "#monte_carlo_new_prices"
   ]
  },
  {
   "cell_type": "code",
   "execution_count": null,
   "metadata": {
    "collapsed": true
   },
   "outputs": [],
   "source": [
    "def course_word(sel,path,investment)\n",
    "    path                   = '/home/hud/2_s2 _sem2/cld_/cw_cld/datasets_cld/amazon.csv'\n",
    "    investment             = 10\n",
    "    adj_close              = hudcw.adj(path)\n",
    "    return_series          = hudcw.ret_s(adj_close)\n",
    "    sorted_                = hudcw.sort_(return_series)\n",
    "    historical             = hudcw.historical(sorted_,investment)\n",
    "    covariance             = hudcw.covariance(return_series,investment)\n",
    "    monte_carlo_new_prices = hudcw.monte_carlo_new_prices(return_series)"
   ]
  }
 ],
 "metadata": {
  "kernelspec": {
   "display_name": "Python 3",
   "language": "python",
   "name": "python3"
  },
  "language_info": {
   "codemirror_mode": {
    "name": "ipython",
    "version": 3
   },
   "file_extension": ".py",
   "mimetype": "text/x-python",
   "name": "python",
   "nbconvert_exporter": "python",
   "pygments_lexer": "ipython3",
   "version": "3.6.0"
  }
 },
 "nbformat": 4,
 "nbformat_minor": 2
}
